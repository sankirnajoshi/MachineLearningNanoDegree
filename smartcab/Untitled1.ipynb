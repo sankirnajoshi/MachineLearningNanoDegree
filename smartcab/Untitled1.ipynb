{
 "cells": [
  {
   "cell_type": "code",
   "execution_count": 1,
   "metadata": {
    "collapsed": true
   },
   "outputs": [],
   "source": [
    "Q = dict()"
   ]
  },
  {
   "cell_type": "code",
   "execution_count": 2,
   "metadata": {
    "collapsed": true
   },
   "outputs": [],
   "source": [
    "waypoint = ['left', 'forward', 'right']"
   ]
  },
  {
   "cell_type": "code",
   "execution_count": 3,
   "metadata": {
    "collapsed": true
   },
   "outputs": [],
   "source": [
    "oncoming = ['left', 'forward', 'right', None]"
   ]
  },
  {
   "cell_type": "code",
   "execution_count": 4,
   "metadata": {
    "collapsed": true
   },
   "outputs": [],
   "source": [
    "left = ['left', 'forward', 'right', None]"
   ]
  },
  {
   "cell_type": "code",
   "execution_count": 5,
   "metadata": {
    "collapsed": true
   },
   "outputs": [],
   "source": [
    "right = ['left', 'forward', 'right', None]"
   ]
  },
  {
   "cell_type": "code",
   "execution_count": 6,
   "metadata": {
    "collapsed": true
   },
   "outputs": [],
   "source": [
    "light = ['red','green']"
   ]
  },
  {
   "cell_type": "code",
   "execution_count": 23,
   "metadata": {
    "collapsed": true
   },
   "outputs": [],
   "source": [
    "state = []\n",
    "for w1, w2 in enumerate(waypoint):\n",
    "    for o1, o2 in enumerate(oncoming):\n",
    "        for l1, l2 in enumerate(left):\n",
    "            for r1, r2 in enumerate(right):\n",
    "                for z1, z2 in enumerate(light):\n",
    "                    inputs = (waypoint[w1], oncoming[o1], left[l1], right[r1], light[z1])\n",
    "                    state.append(inputs)"
   ]
  },
  {
   "cell_type": "code",
   "execution_count": 24,
   "metadata": {
    "collapsed": true
   },
   "outputs": [],
   "source": [
    "state = tuple(state)"
   ]
  },
  {
   "cell_type": "code",
   "execution_count": 25,
   "metadata": {
    "collapsed": false
   },
   "outputs": [
    {
     "data": {
      "text/plain": [
       "384"
      ]
     },
     "execution_count": 25,
     "metadata": {},
     "output_type": "execute_result"
    }
   ],
   "source": [
    "len(state)"
   ]
  },
  {
   "cell_type": "code",
   "execution_count": 26,
   "metadata": {
    "collapsed": true
   },
   "outputs": [],
   "source": [
    "valid_actions = [None, 'forward', 'left', 'right']"
   ]
  },
  {
   "cell_type": "code",
   "execution_count": 27,
   "metadata": {
    "collapsed": false
   },
   "outputs": [],
   "source": [
    "for x in state:\n",
    "    if Q.has_key(x) == False:\n",
    "        Q[x] = {}\n",
    "        for i,j in enumerate(valid_actions):\n",
    "            Q[x][valid_actions[i]] = 0.0"
   ]
  },
  {
   "cell_type": "code",
   "execution_count": 28,
   "metadata": {
    "collapsed": false
   },
   "outputs": [],
   "source": [
    "for x in state:\n",
    "    p = Q[x].values()"
   ]
  },
  {
   "cell_type": "code",
   "execution_count": 29,
   "metadata": {
    "collapsed": false
   },
   "outputs": [
    {
     "data": {
      "text/plain": [
       "[0.0, 0.0, 0.0, 0.0]"
      ]
     },
     "execution_count": 29,
     "metadata": {},
     "output_type": "execute_result"
    }
   ],
   "source": [
    "p"
   ]
  },
  {
   "cell_type": "code",
   "execution_count": 30,
   "metadata": {
    "collapsed": false
   },
   "outputs": [
    {
     "data": {
      "text/plain": [
       "(('left', 'left', 'left', 'left', 'red'),\n",
       " ('left', 'left', 'left', 'left', 'green'),\n",
       " ('left', 'left', 'left', 'forward', 'red'),\n",
       " ('left', 'left', 'left', 'forward', 'green'),\n",
       " ('left', 'left', 'left', 'right', 'red'),\n",
       " ('left', 'left', 'left', 'right', 'green'),\n",
       " ('left', 'left', 'left', None, 'red'),\n",
       " ('left', 'left', 'left', None, 'green'),\n",
       " ('left', 'left', 'forward', 'left', 'red'),\n",
       " ('left', 'left', 'forward', 'left', 'green'),\n",
       " ('left', 'left', 'forward', 'forward', 'red'),\n",
       " ('left', 'left', 'forward', 'forward', 'green'),\n",
       " ('left', 'left', 'forward', 'right', 'red'),\n",
       " ('left', 'left', 'forward', 'right', 'green'),\n",
       " ('left', 'left', 'forward', None, 'red'),\n",
       " ('left', 'left', 'forward', None, 'green'),\n",
       " ('left', 'left', 'right', 'left', 'red'),\n",
       " ('left', 'left', 'right', 'left', 'green'),\n",
       " ('left', 'left', 'right', 'forward', 'red'),\n",
       " ('left', 'left', 'right', 'forward', 'green'),\n",
       " ('left', 'left', 'right', 'right', 'red'),\n",
       " ('left', 'left', 'right', 'right', 'green'),\n",
       " ('left', 'left', 'right', None, 'red'),\n",
       " ('left', 'left', 'right', None, 'green'),\n",
       " ('left', 'left', None, 'left', 'red'),\n",
       " ('left', 'left', None, 'left', 'green'),\n",
       " ('left', 'left', None, 'forward', 'red'),\n",
       " ('left', 'left', None, 'forward', 'green'),\n",
       " ('left', 'left', None, 'right', 'red'),\n",
       " ('left', 'left', None, 'right', 'green'),\n",
       " ('left', 'left', None, None, 'red'),\n",
       " ('left', 'left', None, None, 'green'),\n",
       " ('left', 'forward', 'left', 'left', 'red'),\n",
       " ('left', 'forward', 'left', 'left', 'green'),\n",
       " ('left', 'forward', 'left', 'forward', 'red'),\n",
       " ('left', 'forward', 'left', 'forward', 'green'),\n",
       " ('left', 'forward', 'left', 'right', 'red'),\n",
       " ('left', 'forward', 'left', 'right', 'green'),\n",
       " ('left', 'forward', 'left', None, 'red'),\n",
       " ('left', 'forward', 'left', None, 'green'),\n",
       " ('left', 'forward', 'forward', 'left', 'red'),\n",
       " ('left', 'forward', 'forward', 'left', 'green'),\n",
       " ('left', 'forward', 'forward', 'forward', 'red'),\n",
       " ('left', 'forward', 'forward', 'forward', 'green'),\n",
       " ('left', 'forward', 'forward', 'right', 'red'),\n",
       " ('left', 'forward', 'forward', 'right', 'green'),\n",
       " ('left', 'forward', 'forward', None, 'red'),\n",
       " ('left', 'forward', 'forward', None, 'green'),\n",
       " ('left', 'forward', 'right', 'left', 'red'),\n",
       " ('left', 'forward', 'right', 'left', 'green'),\n",
       " ('left', 'forward', 'right', 'forward', 'red'),\n",
       " ('left', 'forward', 'right', 'forward', 'green'),\n",
       " ('left', 'forward', 'right', 'right', 'red'),\n",
       " ('left', 'forward', 'right', 'right', 'green'),\n",
       " ('left', 'forward', 'right', None, 'red'),\n",
       " ('left', 'forward', 'right', None, 'green'),\n",
       " ('left', 'forward', None, 'left', 'red'),\n",
       " ('left', 'forward', None, 'left', 'green'),\n",
       " ('left', 'forward', None, 'forward', 'red'),\n",
       " ('left', 'forward', None, 'forward', 'green'),\n",
       " ('left', 'forward', None, 'right', 'red'),\n",
       " ('left', 'forward', None, 'right', 'green'),\n",
       " ('left', 'forward', None, None, 'red'),\n",
       " ('left', 'forward', None, None, 'green'),\n",
       " ('left', 'right', 'left', 'left', 'red'),\n",
       " ('left', 'right', 'left', 'left', 'green'),\n",
       " ('left', 'right', 'left', 'forward', 'red'),\n",
       " ('left', 'right', 'left', 'forward', 'green'),\n",
       " ('left', 'right', 'left', 'right', 'red'),\n",
       " ('left', 'right', 'left', 'right', 'green'),\n",
       " ('left', 'right', 'left', None, 'red'),\n",
       " ('left', 'right', 'left', None, 'green'),\n",
       " ('left', 'right', 'forward', 'left', 'red'),\n",
       " ('left', 'right', 'forward', 'left', 'green'),\n",
       " ('left', 'right', 'forward', 'forward', 'red'),\n",
       " ('left', 'right', 'forward', 'forward', 'green'),\n",
       " ('left', 'right', 'forward', 'right', 'red'),\n",
       " ('left', 'right', 'forward', 'right', 'green'),\n",
       " ('left', 'right', 'forward', None, 'red'),\n",
       " ('left', 'right', 'forward', None, 'green'),\n",
       " ('left', 'right', 'right', 'left', 'red'),\n",
       " ('left', 'right', 'right', 'left', 'green'),\n",
       " ('left', 'right', 'right', 'forward', 'red'),\n",
       " ('left', 'right', 'right', 'forward', 'green'),\n",
       " ('left', 'right', 'right', 'right', 'red'),\n",
       " ('left', 'right', 'right', 'right', 'green'),\n",
       " ('left', 'right', 'right', None, 'red'),\n",
       " ('left', 'right', 'right', None, 'green'),\n",
       " ('left', 'right', None, 'left', 'red'),\n",
       " ('left', 'right', None, 'left', 'green'),\n",
       " ('left', 'right', None, 'forward', 'red'),\n",
       " ('left', 'right', None, 'forward', 'green'),\n",
       " ('left', 'right', None, 'right', 'red'),\n",
       " ('left', 'right', None, 'right', 'green'),\n",
       " ('left', 'right', None, None, 'red'),\n",
       " ('left', 'right', None, None, 'green'),\n",
       " ('left', None, 'left', 'left', 'red'),\n",
       " ('left', None, 'left', 'left', 'green'),\n",
       " ('left', None, 'left', 'forward', 'red'),\n",
       " ('left', None, 'left', 'forward', 'green'),\n",
       " ('left', None, 'left', 'right', 'red'),\n",
       " ('left', None, 'left', 'right', 'green'),\n",
       " ('left', None, 'left', None, 'red'),\n",
       " ('left', None, 'left', None, 'green'),\n",
       " ('left', None, 'forward', 'left', 'red'),\n",
       " ('left', None, 'forward', 'left', 'green'),\n",
       " ('left', None, 'forward', 'forward', 'red'),\n",
       " ('left', None, 'forward', 'forward', 'green'),\n",
       " ('left', None, 'forward', 'right', 'red'),\n",
       " ('left', None, 'forward', 'right', 'green'),\n",
       " ('left', None, 'forward', None, 'red'),\n",
       " ('left', None, 'forward', None, 'green'),\n",
       " ('left', None, 'right', 'left', 'red'),\n",
       " ('left', None, 'right', 'left', 'green'),\n",
       " ('left', None, 'right', 'forward', 'red'),\n",
       " ('left', None, 'right', 'forward', 'green'),\n",
       " ('left', None, 'right', 'right', 'red'),\n",
       " ('left', None, 'right', 'right', 'green'),\n",
       " ('left', None, 'right', None, 'red'),\n",
       " ('left', None, 'right', None, 'green'),\n",
       " ('left', None, None, 'left', 'red'),\n",
       " ('left', None, None, 'left', 'green'),\n",
       " ('left', None, None, 'forward', 'red'),\n",
       " ('left', None, None, 'forward', 'green'),\n",
       " ('left', None, None, 'right', 'red'),\n",
       " ('left', None, None, 'right', 'green'),\n",
       " ('left', None, None, None, 'red'),\n",
       " ('left', None, None, None, 'green'),\n",
       " ('forward', 'left', 'left', 'left', 'red'),\n",
       " ('forward', 'left', 'left', 'left', 'green'),\n",
       " ('forward', 'left', 'left', 'forward', 'red'),\n",
       " ('forward', 'left', 'left', 'forward', 'green'),\n",
       " ('forward', 'left', 'left', 'right', 'red'),\n",
       " ('forward', 'left', 'left', 'right', 'green'),\n",
       " ('forward', 'left', 'left', None, 'red'),\n",
       " ('forward', 'left', 'left', None, 'green'),\n",
       " ('forward', 'left', 'forward', 'left', 'red'),\n",
       " ('forward', 'left', 'forward', 'left', 'green'),\n",
       " ('forward', 'left', 'forward', 'forward', 'red'),\n",
       " ('forward', 'left', 'forward', 'forward', 'green'),\n",
       " ('forward', 'left', 'forward', 'right', 'red'),\n",
       " ('forward', 'left', 'forward', 'right', 'green'),\n",
       " ('forward', 'left', 'forward', None, 'red'),\n",
       " ('forward', 'left', 'forward', None, 'green'),\n",
       " ('forward', 'left', 'right', 'left', 'red'),\n",
       " ('forward', 'left', 'right', 'left', 'green'),\n",
       " ('forward', 'left', 'right', 'forward', 'red'),\n",
       " ('forward', 'left', 'right', 'forward', 'green'),\n",
       " ('forward', 'left', 'right', 'right', 'red'),\n",
       " ('forward', 'left', 'right', 'right', 'green'),\n",
       " ('forward', 'left', 'right', None, 'red'),\n",
       " ('forward', 'left', 'right', None, 'green'),\n",
       " ('forward', 'left', None, 'left', 'red'),\n",
       " ('forward', 'left', None, 'left', 'green'),\n",
       " ('forward', 'left', None, 'forward', 'red'),\n",
       " ('forward', 'left', None, 'forward', 'green'),\n",
       " ('forward', 'left', None, 'right', 'red'),\n",
       " ('forward', 'left', None, 'right', 'green'),\n",
       " ('forward', 'left', None, None, 'red'),\n",
       " ('forward', 'left', None, None, 'green'),\n",
       " ('forward', 'forward', 'left', 'left', 'red'),\n",
       " ('forward', 'forward', 'left', 'left', 'green'),\n",
       " ('forward', 'forward', 'left', 'forward', 'red'),\n",
       " ('forward', 'forward', 'left', 'forward', 'green'),\n",
       " ('forward', 'forward', 'left', 'right', 'red'),\n",
       " ('forward', 'forward', 'left', 'right', 'green'),\n",
       " ('forward', 'forward', 'left', None, 'red'),\n",
       " ('forward', 'forward', 'left', None, 'green'),\n",
       " ('forward', 'forward', 'forward', 'left', 'red'),\n",
       " ('forward', 'forward', 'forward', 'left', 'green'),\n",
       " ('forward', 'forward', 'forward', 'forward', 'red'),\n",
       " ('forward', 'forward', 'forward', 'forward', 'green'),\n",
       " ('forward', 'forward', 'forward', 'right', 'red'),\n",
       " ('forward', 'forward', 'forward', 'right', 'green'),\n",
       " ('forward', 'forward', 'forward', None, 'red'),\n",
       " ('forward', 'forward', 'forward', None, 'green'),\n",
       " ('forward', 'forward', 'right', 'left', 'red'),\n",
       " ('forward', 'forward', 'right', 'left', 'green'),\n",
       " ('forward', 'forward', 'right', 'forward', 'red'),\n",
       " ('forward', 'forward', 'right', 'forward', 'green'),\n",
       " ('forward', 'forward', 'right', 'right', 'red'),\n",
       " ('forward', 'forward', 'right', 'right', 'green'),\n",
       " ('forward', 'forward', 'right', None, 'red'),\n",
       " ('forward', 'forward', 'right', None, 'green'),\n",
       " ('forward', 'forward', None, 'left', 'red'),\n",
       " ('forward', 'forward', None, 'left', 'green'),\n",
       " ('forward', 'forward', None, 'forward', 'red'),\n",
       " ('forward', 'forward', None, 'forward', 'green'),\n",
       " ('forward', 'forward', None, 'right', 'red'),\n",
       " ('forward', 'forward', None, 'right', 'green'),\n",
       " ('forward', 'forward', None, None, 'red'),\n",
       " ('forward', 'forward', None, None, 'green'),\n",
       " ('forward', 'right', 'left', 'left', 'red'),\n",
       " ('forward', 'right', 'left', 'left', 'green'),\n",
       " ('forward', 'right', 'left', 'forward', 'red'),\n",
       " ('forward', 'right', 'left', 'forward', 'green'),\n",
       " ('forward', 'right', 'left', 'right', 'red'),\n",
       " ('forward', 'right', 'left', 'right', 'green'),\n",
       " ('forward', 'right', 'left', None, 'red'),\n",
       " ('forward', 'right', 'left', None, 'green'),\n",
       " ('forward', 'right', 'forward', 'left', 'red'),\n",
       " ('forward', 'right', 'forward', 'left', 'green'),\n",
       " ('forward', 'right', 'forward', 'forward', 'red'),\n",
       " ('forward', 'right', 'forward', 'forward', 'green'),\n",
       " ('forward', 'right', 'forward', 'right', 'red'),\n",
       " ('forward', 'right', 'forward', 'right', 'green'),\n",
       " ('forward', 'right', 'forward', None, 'red'),\n",
       " ('forward', 'right', 'forward', None, 'green'),\n",
       " ('forward', 'right', 'right', 'left', 'red'),\n",
       " ('forward', 'right', 'right', 'left', 'green'),\n",
       " ('forward', 'right', 'right', 'forward', 'red'),\n",
       " ('forward', 'right', 'right', 'forward', 'green'),\n",
       " ('forward', 'right', 'right', 'right', 'red'),\n",
       " ('forward', 'right', 'right', 'right', 'green'),\n",
       " ('forward', 'right', 'right', None, 'red'),\n",
       " ('forward', 'right', 'right', None, 'green'),\n",
       " ('forward', 'right', None, 'left', 'red'),\n",
       " ('forward', 'right', None, 'left', 'green'),\n",
       " ('forward', 'right', None, 'forward', 'red'),\n",
       " ('forward', 'right', None, 'forward', 'green'),\n",
       " ('forward', 'right', None, 'right', 'red'),\n",
       " ('forward', 'right', None, 'right', 'green'),\n",
       " ('forward', 'right', None, None, 'red'),\n",
       " ('forward', 'right', None, None, 'green'),\n",
       " ('forward', None, 'left', 'left', 'red'),\n",
       " ('forward', None, 'left', 'left', 'green'),\n",
       " ('forward', None, 'left', 'forward', 'red'),\n",
       " ('forward', None, 'left', 'forward', 'green'),\n",
       " ('forward', None, 'left', 'right', 'red'),\n",
       " ('forward', None, 'left', 'right', 'green'),\n",
       " ('forward', None, 'left', None, 'red'),\n",
       " ('forward', None, 'left', None, 'green'),\n",
       " ('forward', None, 'forward', 'left', 'red'),\n",
       " ('forward', None, 'forward', 'left', 'green'),\n",
       " ('forward', None, 'forward', 'forward', 'red'),\n",
       " ('forward', None, 'forward', 'forward', 'green'),\n",
       " ('forward', None, 'forward', 'right', 'red'),\n",
       " ('forward', None, 'forward', 'right', 'green'),\n",
       " ('forward', None, 'forward', None, 'red'),\n",
       " ('forward', None, 'forward', None, 'green'),\n",
       " ('forward', None, 'right', 'left', 'red'),\n",
       " ('forward', None, 'right', 'left', 'green'),\n",
       " ('forward', None, 'right', 'forward', 'red'),\n",
       " ('forward', None, 'right', 'forward', 'green'),\n",
       " ('forward', None, 'right', 'right', 'red'),\n",
       " ('forward', None, 'right', 'right', 'green'),\n",
       " ('forward', None, 'right', None, 'red'),\n",
       " ('forward', None, 'right', None, 'green'),\n",
       " ('forward', None, None, 'left', 'red'),\n",
       " ('forward', None, None, 'left', 'green'),\n",
       " ('forward', None, None, 'forward', 'red'),\n",
       " ('forward', None, None, 'forward', 'green'),\n",
       " ('forward', None, None, 'right', 'red'),\n",
       " ('forward', None, None, 'right', 'green'),\n",
       " ('forward', None, None, None, 'red'),\n",
       " ('forward', None, None, None, 'green'),\n",
       " ('right', 'left', 'left', 'left', 'red'),\n",
       " ('right', 'left', 'left', 'left', 'green'),\n",
       " ('right', 'left', 'left', 'forward', 'red'),\n",
       " ('right', 'left', 'left', 'forward', 'green'),\n",
       " ('right', 'left', 'left', 'right', 'red'),\n",
       " ('right', 'left', 'left', 'right', 'green'),\n",
       " ('right', 'left', 'left', None, 'red'),\n",
       " ('right', 'left', 'left', None, 'green'),\n",
       " ('right', 'left', 'forward', 'left', 'red'),\n",
       " ('right', 'left', 'forward', 'left', 'green'),\n",
       " ('right', 'left', 'forward', 'forward', 'red'),\n",
       " ('right', 'left', 'forward', 'forward', 'green'),\n",
       " ('right', 'left', 'forward', 'right', 'red'),\n",
       " ('right', 'left', 'forward', 'right', 'green'),\n",
       " ('right', 'left', 'forward', None, 'red'),\n",
       " ('right', 'left', 'forward', None, 'green'),\n",
       " ('right', 'left', 'right', 'left', 'red'),\n",
       " ('right', 'left', 'right', 'left', 'green'),\n",
       " ('right', 'left', 'right', 'forward', 'red'),\n",
       " ('right', 'left', 'right', 'forward', 'green'),\n",
       " ('right', 'left', 'right', 'right', 'red'),\n",
       " ('right', 'left', 'right', 'right', 'green'),\n",
       " ('right', 'left', 'right', None, 'red'),\n",
       " ('right', 'left', 'right', None, 'green'),\n",
       " ('right', 'left', None, 'left', 'red'),\n",
       " ('right', 'left', None, 'left', 'green'),\n",
       " ('right', 'left', None, 'forward', 'red'),\n",
       " ('right', 'left', None, 'forward', 'green'),\n",
       " ('right', 'left', None, 'right', 'red'),\n",
       " ('right', 'left', None, 'right', 'green'),\n",
       " ('right', 'left', None, None, 'red'),\n",
       " ('right', 'left', None, None, 'green'),\n",
       " ('right', 'forward', 'left', 'left', 'red'),\n",
       " ('right', 'forward', 'left', 'left', 'green'),\n",
       " ('right', 'forward', 'left', 'forward', 'red'),\n",
       " ('right', 'forward', 'left', 'forward', 'green'),\n",
       " ('right', 'forward', 'left', 'right', 'red'),\n",
       " ('right', 'forward', 'left', 'right', 'green'),\n",
       " ('right', 'forward', 'left', None, 'red'),\n",
       " ('right', 'forward', 'left', None, 'green'),\n",
       " ('right', 'forward', 'forward', 'left', 'red'),\n",
       " ('right', 'forward', 'forward', 'left', 'green'),\n",
       " ('right', 'forward', 'forward', 'forward', 'red'),\n",
       " ('right', 'forward', 'forward', 'forward', 'green'),\n",
       " ('right', 'forward', 'forward', 'right', 'red'),\n",
       " ('right', 'forward', 'forward', 'right', 'green'),\n",
       " ('right', 'forward', 'forward', None, 'red'),\n",
       " ('right', 'forward', 'forward', None, 'green'),\n",
       " ('right', 'forward', 'right', 'left', 'red'),\n",
       " ('right', 'forward', 'right', 'left', 'green'),\n",
       " ('right', 'forward', 'right', 'forward', 'red'),\n",
       " ('right', 'forward', 'right', 'forward', 'green'),\n",
       " ('right', 'forward', 'right', 'right', 'red'),\n",
       " ('right', 'forward', 'right', 'right', 'green'),\n",
       " ('right', 'forward', 'right', None, 'red'),\n",
       " ('right', 'forward', 'right', None, 'green'),\n",
       " ('right', 'forward', None, 'left', 'red'),\n",
       " ('right', 'forward', None, 'left', 'green'),\n",
       " ('right', 'forward', None, 'forward', 'red'),\n",
       " ('right', 'forward', None, 'forward', 'green'),\n",
       " ('right', 'forward', None, 'right', 'red'),\n",
       " ('right', 'forward', None, 'right', 'green'),\n",
       " ('right', 'forward', None, None, 'red'),\n",
       " ('right', 'forward', None, None, 'green'),\n",
       " ('right', 'right', 'left', 'left', 'red'),\n",
       " ('right', 'right', 'left', 'left', 'green'),\n",
       " ('right', 'right', 'left', 'forward', 'red'),\n",
       " ('right', 'right', 'left', 'forward', 'green'),\n",
       " ('right', 'right', 'left', 'right', 'red'),\n",
       " ('right', 'right', 'left', 'right', 'green'),\n",
       " ('right', 'right', 'left', None, 'red'),\n",
       " ('right', 'right', 'left', None, 'green'),\n",
       " ('right', 'right', 'forward', 'left', 'red'),\n",
       " ('right', 'right', 'forward', 'left', 'green'),\n",
       " ('right', 'right', 'forward', 'forward', 'red'),\n",
       " ('right', 'right', 'forward', 'forward', 'green'),\n",
       " ('right', 'right', 'forward', 'right', 'red'),\n",
       " ('right', 'right', 'forward', 'right', 'green'),\n",
       " ('right', 'right', 'forward', None, 'red'),\n",
       " ('right', 'right', 'forward', None, 'green'),\n",
       " ('right', 'right', 'right', 'left', 'red'),\n",
       " ('right', 'right', 'right', 'left', 'green'),\n",
       " ('right', 'right', 'right', 'forward', 'red'),\n",
       " ('right', 'right', 'right', 'forward', 'green'),\n",
       " ('right', 'right', 'right', 'right', 'red'),\n",
       " ('right', 'right', 'right', 'right', 'green'),\n",
       " ('right', 'right', 'right', None, 'red'),\n",
       " ('right', 'right', 'right', None, 'green'),\n",
       " ('right', 'right', None, 'left', 'red'),\n",
       " ('right', 'right', None, 'left', 'green'),\n",
       " ('right', 'right', None, 'forward', 'red'),\n",
       " ('right', 'right', None, 'forward', 'green'),\n",
       " ('right', 'right', None, 'right', 'red'),\n",
       " ('right', 'right', None, 'right', 'green'),\n",
       " ('right', 'right', None, None, 'red'),\n",
       " ('right', 'right', None, None, 'green'),\n",
       " ('right', None, 'left', 'left', 'red'),\n",
       " ('right', None, 'left', 'left', 'green'),\n",
       " ('right', None, 'left', 'forward', 'red'),\n",
       " ('right', None, 'left', 'forward', 'green'),\n",
       " ('right', None, 'left', 'right', 'red'),\n",
       " ('right', None, 'left', 'right', 'green'),\n",
       " ('right', None, 'left', None, 'red'),\n",
       " ('right', None, 'left', None, 'green'),\n",
       " ('right', None, 'forward', 'left', 'red'),\n",
       " ('right', None, 'forward', 'left', 'green'),\n",
       " ('right', None, 'forward', 'forward', 'red'),\n",
       " ('right', None, 'forward', 'forward', 'green'),\n",
       " ('right', None, 'forward', 'right', 'red'),\n",
       " ('right', None, 'forward', 'right', 'green'),\n",
       " ('right', None, 'forward', None, 'red'),\n",
       " ('right', None, 'forward', None, 'green'),\n",
       " ('right', None, 'right', 'left', 'red'),\n",
       " ('right', None, 'right', 'left', 'green'),\n",
       " ('right', None, 'right', 'forward', 'red'),\n",
       " ('right', None, 'right', 'forward', 'green'),\n",
       " ('right', None, 'right', 'right', 'red'),\n",
       " ('right', None, 'right', 'right', 'green'),\n",
       " ('right', None, 'right', None, 'red'),\n",
       " ('right', None, 'right', None, 'green'),\n",
       " ('right', None, None, 'left', 'red'),\n",
       " ('right', None, None, 'left', 'green'),\n",
       " ('right', None, None, 'forward', 'red'),\n",
       " ('right', None, None, 'forward', 'green'),\n",
       " ('right', None, None, 'right', 'red'),\n",
       " ('right', None, None, 'right', 'green'),\n",
       " ('right', None, None, None, 'red'),\n",
       " ('right', None, None, None, 'green'))"
      ]
     },
     "execution_count": 30,
     "metadata": {},
     "output_type": "execute_result"
    }
   ],
   "source": [
    "state"
   ]
  },
  {
   "cell_type": "code",
   "execution_count": 66,
   "metadata": {
    "collapsed": false
   },
   "outputs": [],
   "source": [
    "Q[state[50]] ={None: 0.0, 'forward': 40.0, 'left': 0.0, 'right': 0.0}"
   ]
  },
  {
   "cell_type": "code",
   "execution_count": 67,
   "metadata": {
    "collapsed": false
   },
   "outputs": [
    {
     "name": "stdout",
     "output_type": "stream",
     "text": [
      "{'forward': 40.0, 'right': 0.0, None: 0.0, 'left': 0.0}\n"
     ]
    }
   ],
   "source": [
    "print Q[state[50]]"
   ]
  },
  {
   "cell_type": "code",
   "execution_count": 70,
   "metadata": {
    "collapsed": false
   },
   "outputs": [
    {
     "name": "stdout",
     "output_type": "stream",
     "text": [
      "[40.0, 0.0, 0.0, 0.0]\n"
     ]
    }
   ],
   "source": [
    "print Q[state[50]].values()"
   ]
  },
  {
   "cell_type": "code",
   "execution_count": 87,
   "metadata": {
    "collapsed": false
   },
   "outputs": [],
   "source": [
    "for key, value in Q[state[50]].iteritems():\n",
    "    if value == 40:\n",
    "        action = key"
   ]
  },
  {
   "cell_type": "code",
   "execution_count": 88,
   "metadata": {
    "collapsed": false
   },
   "outputs": [
    {
     "data": {
      "text/plain": [
       "'forward'"
      ]
     },
     "execution_count": 88,
     "metadata": {},
     "output_type": "execute_result"
    }
   ],
   "source": [
    "action"
   ]
  },
  {
   "cell_type": "code",
   "execution_count": null,
   "metadata": {
    "collapsed": true
   },
   "outputs": [],
   "source": []
  }
 ],
 "metadata": {
  "kernelspec": {
   "display_name": "Python 2",
   "language": "python",
   "name": "python2"
  },
  "language_info": {
   "codemirror_mode": {
    "name": "ipython",
    "version": 2
   },
   "file_extension": ".py",
   "mimetype": "text/x-python",
   "name": "python",
   "nbconvert_exporter": "python",
   "pygments_lexer": "ipython2",
   "version": "2.7.13"
  }
 },
 "nbformat": 4,
 "nbformat_minor": 2
}
