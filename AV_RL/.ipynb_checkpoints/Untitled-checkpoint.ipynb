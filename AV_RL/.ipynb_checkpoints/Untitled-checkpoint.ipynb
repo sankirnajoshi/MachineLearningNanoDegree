{
 "cells": [
  {
   "cell_type": "markdown",
   "metadata": {},
   "source": [
    "Let’s code it up!\n",
    "\n",
    "To setup our code, we need to first install a few things,\n",
    "\n",
    "Step 1: Install keras-rl library\n",
    "\n",
    "From terminal, run the following commands:\n",
    "\n",
    "git clone https://github.com/matthiasplappert/keras-rl.git\n",
    "cd keras-rl\n",
    "python setup.py install\n",
    " \n",
    "\n",
    "Step 2: Install dependencies for CartPole environment\n",
    "\n",
    "Assuming you have pip installed, you need to install the following libraries\n",
    "\n",
    "pip install h5py\n",
    "pip install gym\n",
    " "
   ]
  },
  {
   "cell_type": "markdown",
   "metadata": {},
   "source": [
    "Step 3: lets get started!\n",
    "\n",
    "First we have to import modules that are necessary"
   ]
  },
  {
   "cell_type": "code",
   "execution_count": 1,
   "metadata": {
    "collapsed": false
   },
   "outputs": [
    {
     "name": "stderr",
     "output_type": "stream",
     "text": [
      "Using Theano backend.\n",
      "WARNING (theano.configdefaults): g++ not available, if using conda: `conda install m2w64-toolchain`\n",
      "[2017-07-18 00:37:29,829] g++ not available, if using conda: `conda install m2w64-toolchain`\n",
      "WARNING (theano.configdefaults): g++ not detected ! Theano will be unable to execute optimized C-implementations (for both CPU and GPU) and will default to Python implementations. Performance will be severely degraded. To remove this warning, set Theano flags cxx to an empty string.\n",
      "[2017-07-18 00:37:29,842] g++ not detected ! Theano will be unable to execute optimized C-implementations (for both CPU and GPU) and will default to Python implementations. Performance will be severely degraded. To remove this warning, set Theano flags cxx to an empty string.\n"
     ]
    }
   ],
   "source": [
    "%matplotlib inline\n",
    "import numpy as np\n",
    "import gym\n",
    "\n",
    "from keras.models import Sequential\n",
    "from keras.layers import Dense, Activation, Flatten\n",
    "from keras.optimizers import Adam\n",
    "\n",
    "from rl.agents.dqn import DQNAgent\n",
    "from rl.policy import EpsGreedyQPolicy\n",
    "from rl.memory import SequentialMemory"
   ]
  },
  {
   "cell_type": "markdown",
   "metadata": {
    "collapsed": true
   },
   "source": [
    "Then set the relevant variables"
   ]
  },
  {
   "cell_type": "code",
   "execution_count": 2,
   "metadata": {
    "collapsed": false
   },
   "outputs": [
    {
     "name": "stderr",
     "output_type": "stream",
     "text": [
      "[2017-07-18 00:37:40,720] Making new env: CartPole-v0\n"
     ]
    }
   ],
   "source": [
    "ENV_NAME = 'CartPole-v0'\n",
    "\n",
    "# Get the environment and extract the number of actions available in the Cartpole problem\n",
    "env = gym.make(ENV_NAME)\n",
    "np.random.seed(123)\n",
    "env.seed(123)\n",
    "nb_actions = env.action_space.n"
   ]
  },
  {
   "cell_type": "markdown",
   "metadata": {},
   "source": [
    "Next, we build a very simple single hidden layer neural network model.\n"
   ]
  },
  {
   "cell_type": "code",
   "execution_count": 3,
   "metadata": {
    "collapsed": false
   },
   "outputs": [
    {
     "name": "stdout",
     "output_type": "stream",
     "text": [
      "_________________________________________________________________\n",
      "Layer (type)                 Output Shape              Param #   \n",
      "=================================================================\n",
      "flatten_1 (Flatten)          (None, 4)                 0         \n",
      "_________________________________________________________________\n",
      "dense_1 (Dense)              (None, 16)                80        \n",
      "_________________________________________________________________\n",
      "activation_1 (Activation)    (None, 16)                0         \n",
      "_________________________________________________________________\n",
      "dense_2 (Dense)              (None, 2)                 34        \n",
      "_________________________________________________________________\n",
      "activation_2 (Activation)    (None, 2)                 0         \n",
      "=================================================================\n",
      "Total params: 114\n",
      "Trainable params: 114\n",
      "Non-trainable params: 0\n",
      "_________________________________________________________________\n",
      "None\n"
     ]
    }
   ],
   "source": [
    "model = Sequential()\n",
    "model.add(Flatten(input_shape=(1,) + env.observation_space.shape))\n",
    "model.add(Dense(16))\n",
    "model.add(Activation('relu'))\n",
    "model.add(Dense(nb_actions))\n",
    "model.add(Activation('linear'))\n",
    "print(model.summary())"
   ]
  },
  {
   "cell_type": "markdown",
   "metadata": {},
   "source": [
    "Next, we configure and compile our agent. We set our policy as Epsilon Greedy and we also set our memory as Sequential Memory because we want to store the result of actions we performed and the rewards we get for each action.\n"
   ]
  },
  {
   "cell_type": "code",
   "execution_count": 4,
   "metadata": {
    "collapsed": false
   },
   "outputs": [
    {
     "name": "stdout",
     "output_type": "stream",
     "text": [
      "Training for 500 steps ...\n",
      "  10/500: episode: 1, duration: 1.360s, episode steps: 10, steps per second: 7, episode reward: 10.000, mean reward: 1.000 [1.000, 1.000], mean action: 0.000 [0.000, 0.000], mean observation: 0.132 [-1.967, 3.014], loss: --, mean_absolute_error: --, mean_q: --\n"
     ]
    },
    {
     "name": "stderr",
     "output_type": "stream",
     "text": [
      "C:\\Users\\sank\\Anaconda2\\lib\\site-packages\\keras_rl-0.3.0-py2.7.egg\\rl\\memory.py:29: UserWarning: Not enough entries to sample without replacement. Consider increasing your warm-up phase to avoid oversampling!\n",
      "  warnings.warn('Not enough entries to sample without replacement. Consider increasing your warm-up phase to avoid oversampling!')\n"
     ]
    },
    {
     "name": "stdout",
     "output_type": "stream",
     "text": [
      "  19/500: episode: 2, duration: 5.514s, episode steps: 9, steps per second: 2, episode reward: 9.000, mean reward: 1.000 [1.000, 1.000], mean action: 0.111 [0.000, 1.000], mean observation: 0.161 [-1.326, 2.303], loss: 0.507259, mean_absolute_error: 0.616917, mean_q: 0.268948\n",
      "  33/500: episode: 3, duration: 3.087s, episode steps: 14, steps per second: 5, episode reward: 14.000, mean reward: 1.000 [1.000, 1.000], mean action: 0.214 [0.000, 1.000], mean observation: 0.125 [-1.517, 2.553], loss: 0.436648, mean_absolute_error: 0.580347, mean_q: 0.333230\n",
      "  42/500: episode: 4, duration: 2.032s, episode steps: 9, steps per second: 4, episode reward: 9.000, mean reward: 1.000 [1.000, 1.000], mean action: 0.000 [0.000, 0.000], mean observation: 0.137 [-1.783, 2.784], loss: 0.401373, mean_absolute_error: 0.567380, mean_q: 0.397797\n",
      "  53/500: episode: 5, duration: 2.412s, episode steps: 11, steps per second: 5, episode reward: 11.000, mean reward: 1.000 [1.000, 1.000], mean action: 0.091 [0.000, 1.000], mean observation: 0.148 [-1.915, 2.968], loss: 0.376066, mean_absolute_error: 0.558955, mean_q: 0.462117\n",
      "  65/500: episode: 6, duration: 2.618s, episode steps: 12, steps per second: 5, episode reward: 12.000, mean reward: 1.000 [1.000, 1.000], mean action: 0.167 [0.000, 1.000], mean observation: 0.129 [-1.559, 2.544], loss: 0.334195, mean_absolute_error: 0.553934, mean_q: 0.570736\n",
      "  75/500: episode: 7, duration: 2.205s, episode steps: 10, steps per second: 5, episode reward: 10.000, mean reward: 1.000 [1.000, 1.000], mean action: 0.000 [0.000, 0.000], mean observation: 0.155 [-1.913, 3.101], loss: 0.316996, mean_absolute_error: 0.559163, mean_q: 0.641121\n",
      "  84/500: episode: 8, duration: 2.003s, episode steps: 9, steps per second: 4, episode reward: 9.000, mean reward: 1.000 [1.000, 1.000], mean action: 0.000 [0.000, 0.000], mean observation: 0.139 [-1.763, 2.739], loss: 0.302263, mean_absolute_error: 0.569954, mean_q: 0.706230\n",
      "  93/500: episode: 9, duration: 2.013s, episode steps: 9, steps per second: 4, episode reward: 9.000, mean reward: 1.000 [1.000, 1.000], mean action: 0.000 [0.000, 0.000], mean observation: 0.159 [-1.716, 2.815], loss: 0.284274, mean_absolute_error: 0.562856, mean_q: 0.778949\n",
      " 102/500: episode: 10, duration: 2.032s, episode steps: 9, steps per second: 4, episode reward: 9.000, mean reward: 1.000 [1.000, 1.000], mean action: 0.111 [0.000, 1.000], mean observation: 0.146 [-1.583, 2.546], loss: 0.275397, mean_absolute_error: 0.571518, mean_q: 0.838486\n",
      " 111/500: episode: 11, duration: 2.033s, episode steps: 9, steps per second: 4, episode reward: 9.000, mean reward: 1.000 [1.000, 1.000], mean action: 0.000 [0.000, 0.000], mean observation: 0.134 [-1.787, 2.754], loss: 0.265784, mean_absolute_error: 0.582180, mean_q: 0.922885\n",
      " 121/500: episode: 12, duration: 2.212s, episode steps: 10, steps per second: 5, episode reward: 10.000, mean reward: 1.000 [1.000, 1.000], mean action: 0.000 [0.000, 0.000], mean observation: 0.158 [-1.915, 3.108], loss: 0.256590, mean_absolute_error: 0.583517, mean_q: 0.987834\n",
      " 131/500: episode: 13, duration: 2.234s, episode steps: 10, steps per second: 4, episode reward: 10.000, mean reward: 1.000 [1.000, 1.000], mean action: 0.000 [0.000, 0.000], mean observation: 0.150 [-1.912, 3.013], loss: 0.252706, mean_absolute_error: 0.591680, mean_q: 1.046745\n",
      " 141/500: episode: 14, duration: 2.215s, episode steps: 10, steps per second: 5, episode reward: 10.000, mean reward: 1.000 [1.000, 1.000], mean action: 0.000 [0.000, 0.000], mean observation: 0.151 [-1.939, 3.082], loss: 0.259032, mean_absolute_error: 0.603565, mean_q: 1.144159\n",
      " 152/500: episode: 15, duration: 2.416s, episode steps: 11, steps per second: 5, episode reward: 11.000, mean reward: 1.000 [1.000, 1.000], mean action: 0.091 [0.000, 1.000], mean observation: 0.126 [-1.770, 2.886], loss: 0.248369, mean_absolute_error: 0.623318, mean_q: 1.233461\n",
      " 161/500: episode: 16, duration: 2.026s, episode steps: 9, steps per second: 4, episode reward: 9.000, mean reward: 1.000 [1.000, 1.000], mean action: 0.111 [0.000, 1.000], mean observation: 0.132 [-1.365, 2.274], loss: 0.250730, mean_absolute_error: 0.636435, mean_q: 1.299401\n",
      " 172/500: episode: 17, duration: 3.784s, episode steps: 11, steps per second: 3, episode reward: 11.000, mean reward: 1.000 [1.000, 1.000], mean action: 0.091 [0.000, 1.000], mean observation: 0.125 [-1.744, 2.781], loss: 0.251630, mean_absolute_error: 0.655262, mean_q: 1.352421\n",
      " 182/500: episode: 18, duration: 2.490s, episode steps: 10, steps per second: 4, episode reward: 10.000, mean reward: 1.000 [1.000, 1.000], mean action: 0.000 [0.000, 0.000], mean observation: 0.141 [-1.965, 3.056], loss: 0.223632, mean_absolute_error: 0.664252, mean_q: 1.484802\n",
      " 192/500: episode: 19, duration: 2.314s, episode steps: 10, steps per second: 4, episode reward: 10.000, mean reward: 1.000 [1.000, 1.000], mean action: 0.000 [0.000, 0.000], mean observation: 0.173 [-1.932, 3.121], loss: 0.239496, mean_absolute_error: 0.694001, mean_q: 1.576201\n",
      " 201/500: episode: 20, duration: 2.090s, episode steps: 9, steps per second: 4, episode reward: 9.000, mean reward: 1.000 [1.000, 1.000], mean action: 0.000 [0.000, 0.000], mean observation: 0.153 [-1.756, 2.807], loss: 0.235832, mean_absolute_error: 0.707086, mean_q: 1.674810\n",
      " 209/500: episode: 21, duration: 1.885s, episode steps: 8, steps per second: 4, episode reward: 8.000, mean reward: 1.000 [1.000, 1.000], mean action: 0.000 [0.000, 0.000], mean observation: 0.169 [-1.546, 2.557], loss: 0.267033, mean_absolute_error: 0.767970, mean_q: 1.789855\n",
      " 218/500: episode: 22, duration: 2.155s, episode steps: 9, steps per second: 4, episode reward: 9.000, mean reward: 1.000 [1.000, 1.000], mean action: 0.000 [0.000, 0.000], mean observation: 0.145 [-1.773, 2.813], loss: 0.206706, mean_absolute_error: 0.728169, mean_q: 1.784920\n",
      " 226/500: episode: 23, duration: 2.645s, episode steps: 8, steps per second: 3, episode reward: 8.000, mean reward: 1.000 [1.000, 1.000], mean action: 0.000 [0.000, 0.000], mean observation: 0.157 [-1.531, 2.553], loss: 0.255776, mean_absolute_error: 0.771129, mean_q: 1.871013\n",
      " 237/500: episode: 24, duration: 2.560s, episode steps: 11, steps per second: 4, episode reward: 11.000, mean reward: 1.000 [1.000, 1.000], mean action: 0.182 [0.000, 1.000], mean observation: 0.129 [-1.359, 2.269], loss: 0.221440, mean_absolute_error: 0.757424, mean_q: 1.869864\n",
      " 247/500: episode: 25, duration: 2.288s, episode steps: 10, steps per second: 4, episode reward: 10.000, mean reward: 1.000 [1.000, 1.000], mean action: 0.100 [0.000, 1.000], mean observation: 0.116 [-1.773, 2.692], loss: 0.286485, mean_absolute_error: 0.841826, mean_q: 1.937704\n",
      " 255/500: episode: 26, duration: 2.060s, episode steps: 8, steps per second: 4, episode reward: 8.000, mean reward: 1.000 [1.000, 1.000], mean action: 0.000 [0.000, 0.000], mean observation: 0.143 [-1.551, 2.549], loss: 0.264382, mean_absolute_error: 0.854147, mean_q: 1.990459\n",
      " 265/500: episode: 27, duration: 2.314s, episode steps: 10, steps per second: 4, episode reward: 10.000, mean reward: 1.000 [1.000, 1.000], mean action: 0.000 [0.000, 0.000], mean observation: 0.118 [-1.964, 3.004], loss: 0.299132, mean_absolute_error: 0.901857, mean_q: 2.056993\n",
      " 275/500: episode: 28, duration: 2.709s, episode steps: 10, steps per second: 4, episode reward: 10.000, mean reward: 1.000 [1.000, 1.000], mean action: 0.100 [0.000, 1.000], mean observation: 0.118 [-1.616, 2.601], loss: 0.279947, mean_absolute_error: 0.907191, mean_q: 2.074073\n",
      " 285/500: episode: 29, duration: 2.533s, episode steps: 10, steps per second: 4, episode reward: 10.000, mean reward: 1.000 [1.000, 1.000], mean action: 0.000 [0.000, 0.000], mean observation: 0.175 [-1.910, 3.113], loss: 0.275622, mean_absolute_error: 0.917058, mean_q: 2.146483\n",
      " 294/500: episode: 30, duration: 2.525s, episode steps: 9, steps per second: 4, episode reward: 9.000, mean reward: 1.000 [1.000, 1.000], mean action: 0.000 [0.000, 0.000], mean observation: 0.146 [-1.717, 2.796], loss: 0.273379, mean_absolute_error: 0.932876, mean_q: 2.174166\n",
      " 304/500: episode: 31, duration: 2.342s, episode steps: 10, steps per second: 4, episode reward: 10.000, mean reward: 1.000 [1.000, 1.000], mean action: 0.000 [0.000, 0.000], mean observation: 0.127 [-1.985, 3.032], loss: 0.236303, mean_absolute_error: 0.953500, mean_q: 2.264232\n",
      " 313/500: episode: 32, duration: 2.234s, episode steps: 9, steps per second: 4, episode reward: 9.000, mean reward: 1.000 [1.000, 1.000], mean action: 0.000 [0.000, 0.000], mean observation: 0.141 [-1.807, 2.880], loss: 0.309568, mean_absolute_error: 0.998596, mean_q: 2.383931\n",
      " 322/500: episode: 33, duration: 2.262s, episode steps: 9, steps per second: 4, episode reward: 9.000, mean reward: 1.000 [1.000, 1.000], mean action: 0.000 [0.000, 0.000], mean observation: 0.145 [-1.737, 2.764], loss: 0.305684, mean_absolute_error: 1.035371, mean_q: 2.475551\n",
      " 331/500: episode: 34, duration: 2.265s, episode steps: 9, steps per second: 4, episode reward: 9.000, mean reward: 1.000 [1.000, 1.000], mean action: 0.000 [0.000, 0.000], mean observation: 0.156 [-1.712, 2.836], loss: 0.320563, mean_absolute_error: 1.065345, mean_q: 2.457570\n",
      " 339/500: episode: 35, duration: 2.038s, episode steps: 8, steps per second: 4, episode reward: 8.000, mean reward: 1.000 [1.000, 1.000], mean action: 0.000 [0.000, 0.000], mean observation: 0.144 [-1.590, 2.565], loss: 0.302065, mean_absolute_error: 1.080994, mean_q: 2.472196\n",
      " 350/500: episode: 36, duration: 2.798s, episode steps: 11, steps per second: 4, episode reward: 11.000, mean reward: 1.000 [1.000, 1.000], mean action: 0.091 [0.000, 1.000], mean observation: 0.116 [-1.783, 2.796], loss: 0.297598, mean_absolute_error: 1.096214, mean_q: 2.524058\n",
      " 360/500: episode: 37, duration: 3.176s, episode steps: 10, steps per second: 3, episode reward: 10.000, mean reward: 1.000 [1.000, 1.000], mean action: 0.000 [0.000, 0.000], mean observation: 0.135 [-1.937, 3.009], loss: 0.304717, mean_absolute_error: 1.094246, mean_q: 2.602767\n",
      " 368/500: episode: 38, duration: 1.901s, episode steps: 8, steps per second: 4, episode reward: 8.000, mean reward: 1.000 [1.000, 1.000], mean action: 0.000 [0.000, 0.000], mean observation: 0.143 [-1.547, 2.531], loss: 0.364080, mean_absolute_error: 1.156636, mean_q: 2.632081\n",
      " 378/500: episode: 39, duration: 2.276s, episode steps: 10, steps per second: 4, episode reward: 10.000, mean reward: 1.000 [1.000, 1.000], mean action: 0.000 [0.000, 0.000], mean observation: 0.137 [-1.958, 3.050], loss: 0.297892, mean_absolute_error: 1.137650, mean_q: 2.606211\n",
      " 387/500: episode: 40, duration: 2.020s, episode steps: 9, steps per second: 4, episode reward: 9.000, mean reward: 1.000 [1.000, 1.000], mean action: 0.000 [0.000, 0.000], mean observation: 0.144 [-1.774, 2.819], loss: 0.324721, mean_absolute_error: 1.183162, mean_q: 2.651481\n",
      " 395/500: episode: 41, duration: 1.929s, episode steps: 8, steps per second: 4, episode reward: 8.000, mean reward: 1.000 [1.000, 1.000], mean action: 0.125 [0.000, 1.000], mean observation: 0.163 [-1.368, 2.236], loss: 0.280027, mean_absolute_error: 1.174444, mean_q: 2.711329\n",
      " 404/500: episode: 42, duration: 2.242s, episode steps: 9, steps per second: 4, episode reward: 9.000, mean reward: 1.000 [1.000, 1.000], mean action: 0.000 [0.000, 0.000], mean observation: 0.135 [-1.809, 2.812], loss: 0.322247, mean_absolute_error: 1.244954, mean_q: 2.826272\n",
      " 412/500: episode: 43, duration: 1.835s, episode steps: 8, steps per second: 4, episode reward: 8.000, mean reward: 1.000 [1.000, 1.000], mean action: 0.000 [0.000, 0.000], mean observation: 0.174 [-1.530, 2.589], loss: 0.281009, mean_absolute_error: 1.242552, mean_q: 2.900815\n",
      " 424/500: episode: 44, duration: 2.680s, episode steps: 12, steps per second: 4, episode reward: 12.000, mean reward: 1.000 [1.000, 1.000], mean action: 0.083 [0.000, 1.000], mean observation: 0.136 [-1.915, 3.073], loss: 0.387317, mean_absolute_error: 1.305260, mean_q: 2.968160\n",
      " 433/500: episode: 45, duration: 2.044s, episode steps: 9, steps per second: 4, episode reward: 9.000, mean reward: 1.000 [1.000, 1.000], mean action: 0.000 [0.000, 0.000], mean observation: 0.167 [-1.721, 2.843], loss: 0.286598, mean_absolute_error: 1.265778, mean_q: 2.952409\n",
      " 442/500: episode: 46, duration: 2.185s, episode steps: 9, steps per second: 4, episode reward: 9.000, mean reward: 1.000 [1.000, 1.000], mean action: 0.000 [0.000, 0.000], mean observation: 0.187 [-1.727, 2.899], loss: 0.317523, mean_absolute_error: 1.290003, mean_q: 2.995011\n",
      " 451/500: episode: 47, duration: 2.240s, episode steps: 9, steps per second: 4, episode reward: 9.000, mean reward: 1.000 [1.000, 1.000], mean action: 0.000 [0.000, 0.000], mean observation: 0.164 [-1.721, 2.789], loss: 0.338327, mean_absolute_error: 1.325530, mean_q: 3.079267\n",
      " 460/500: episode: 48, duration: 2.153s, episode steps: 9, steps per second: 4, episode reward: 9.000, mean reward: 1.000 [1.000, 1.000], mean action: 0.000 [0.000, 0.000], mean observation: 0.124 [-1.794, 2.794], loss: 0.310016, mean_absolute_error: 1.321968, mean_q: 3.148742\n",
      " 469/500: episode: 49, duration: 2.652s, episode steps: 9, steps per second: 3, episode reward: 9.000, mean reward: 1.000 [1.000, 1.000], mean action: 0.000 [0.000, 0.000], mean observation: 0.143 [-1.768, 2.798], loss: 0.309363, mean_absolute_error: 1.350305, mean_q: 3.207428\n",
      " 481/500: episode: 50, duration: 2.643s, episode steps: 12, steps per second: 5, episode reward: 12.000, mean reward: 1.000 [1.000, 1.000], mean action: 0.083 [0.000, 1.000], mean observation: 0.091 [-1.975, 3.007], loss: 0.372936, mean_absolute_error: 1.347461, mean_q: 3.236470\n",
      " 493/500: episode: 51, duration: 2.840s, episode steps: 12, steps per second: 4, episode reward: 12.000, mean reward: 1.000 [1.000, 1.000], mean action: 0.167 [0.000, 1.000], mean observation: 0.113 [-1.533, 2.532], loss: 0.251934, mean_absolute_error: 1.310522, mean_q: 3.275553\n",
      "done, took 123.125 seconds\n"
     ]
    },
    {
     "data": {
      "text/plain": [
       "<keras.callbacks.History at 0xcbfd908>"
      ]
     },
     "execution_count": 4,
     "metadata": {},
     "output_type": "execute_result"
    }
   ],
   "source": [
    "policy = EpsGreedyQPolicy()\n",
    "memory = SequentialMemory(limit=50000, window_length=1)\n",
    "dqn = DQNAgent(model=model, nb_actions=nb_actions, memory=memory, nb_steps_warmup=10,\n",
    "target_model_update=1e-2, policy=policy)\n",
    "dqn.compile(Adam(lr=1e-3), metrics=['mae'])\n",
    "\n",
    "# Okay, now it's time to learn something! We visualize the training here for show, but this slows down training quite a lot. \n",
    "#dqn.fit(env, nb_steps=5000, visualize=True, verbose=2)\n",
    "dqn.fit(env, nb_steps=500, visualize=True, verbose=2) #To make it quick"
   ]
  },
  {
   "cell_type": "markdown",
   "metadata": {
    "collapsed": true
   },
   "source": [
    "Now we test our reinforcement learning model"
   ]
  },
  {
   "cell_type": "code",
   "execution_count": 1,
   "metadata": {
    "collapsed": false
   },
   "outputs": [
    {
     "ename": "NameError",
     "evalue": "name 'dqn' is not defined",
     "output_type": "error",
     "traceback": [
      "\u001b[0;31m---------------------------------------------------------------------------\u001b[0m",
      "\u001b[0;31mNameError\u001b[0m                                 Traceback (most recent call last)",
      "\u001b[0;32m<ipython-input-1-88704ad50fc1>\u001b[0m in \u001b[0;36m<module>\u001b[0;34m()\u001b[0m\n\u001b[0;32m----> 1\u001b[0;31m \u001b[0mdqn\u001b[0m\u001b[1;33m.\u001b[0m\u001b[0mtest\u001b[0m\u001b[1;33m(\u001b[0m\u001b[0menv\u001b[0m\u001b[1;33m,\u001b[0m \u001b[0mnb_episodes\u001b[0m\u001b[1;33m=\u001b[0m\u001b[1;36m5\u001b[0m\u001b[1;33m,\u001b[0m \u001b[0mvisualize\u001b[0m\u001b[1;33m=\u001b[0m\u001b[0mTrue\u001b[0m\u001b[1;33m)\u001b[0m\u001b[1;33m\u001b[0m\u001b[0m\n\u001b[0m",
      "\u001b[0;31mNameError\u001b[0m: name 'dqn' is not defined"
     ]
    }
   ],
   "source": [
    "dqn.test(env, nb_episodes=5, visualize=True)"
   ]
  },
  {
   "cell_type": "code",
   "execution_count": null,
   "metadata": {
    "collapsed": true
   },
   "outputs": [],
   "source": []
  }
 ],
 "metadata": {
  "kernelspec": {
   "display_name": "Python 2",
   "language": "python",
   "name": "python2"
  },
  "language_info": {
   "codemirror_mode": {
    "name": "ipython",
    "version": 2
   },
   "file_extension": ".py",
   "mimetype": "text/x-python",
   "name": "python",
   "nbconvert_exporter": "python",
   "pygments_lexer": "ipython2",
   "version": "2.7.13"
  }
 },
 "nbformat": 4,
 "nbformat_minor": 2
}
